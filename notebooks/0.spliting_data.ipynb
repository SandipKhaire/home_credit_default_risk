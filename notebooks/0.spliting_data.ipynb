{
 "cells": [
  {
   "cell_type": "code",
   "execution_count": 2,
   "metadata": {},
   "outputs": [],
   "source": [
    "# numpy and pandas for data manipulation\n",
    "import numpy as np\n",
    "import pandas as pd \n",
    "import os\n",
    "from sklearn.model_selection import train_test_split\n",
    "pd.set_option(\"display.max_columns\", None)  # Show all columns\n",
    "pd.set_option(\"display.max_rows\", None)     # Show all rows (optional)"
   ]
  },
  {
   "cell_type": "code",
   "execution_count": 9,
   "metadata": {},
   "outputs": [],
   "source": [
    "#Training Data\n",
    "app_train = pd.read_csv('../data/raw/application_train.csv')"
   ]
  },
  {
   "cell_type": "code",
   "execution_count": 10,
   "metadata": {},
   "outputs": [
    {
     "name": "stdout",
     "output_type": "stream",
     "text": [
      "Training Data shape : (307511, 122)\n"
     ]
    }
   ],
   "source": [
    "print(f\"Training Data shape : {app_train.shape}\")\n"
   ]
  },
  {
   "cell_type": "code",
   "execution_count": 8,
   "metadata": {},
   "outputs": [
    {
     "name": "stdout",
     "output_type": "stream",
     "text": [
      "         Count  Percentage\n",
      "TARGET                    \n",
      "0       282686   91.927118\n",
      "1        24825    8.072882\n"
     ]
    }
   ],
   "source": [
    "# Get counts\n",
    "counts = app_train['TARGET'].value_counts()\n",
    "# Get percentages\n",
    "percentages = app_train['TARGET'].value_counts(normalize=True) * 100\n",
    "# Combine counts and percentages into a single DataFrame\n",
    "app_train_target = pd.DataFrame({'Count': counts, 'Percentage': percentages})\n",
    "print(app_train_target)"
   ]
  },
  {
   "cell_type": "code",
   "execution_count": null,
   "metadata": {},
   "outputs": [],
   "source": [
    "\n",
    "def stratified_split_and_save(df, target_column, train_file_name, test_file_name, path, test_size=0.3, random_state=42):\n",
    "    \"\"\"\n",
    "    Perform a stratified split on the DataFrame based on the target column and save the splits to files.\n",
    "\n",
    "    Parameters:\n",
    "    - df: pandas DataFrame, the original dataset.\n",
    "    - target_column: str, the name of the target column.\n",
    "    - train_file_name: str, the name of the file to save the training data.\n",
    "    - test_file_name: str, the name of the file to save the testing data.\n",
    "    - path: str, the directory path where the files will be saved.\n",
    "    - test_size: float, the proportion of the dataset to include in the test split (default is 0.3).\n",
    "    - random_state: int, random seed for reproducibility (default is 42).\n",
    "    \"\"\"\n",
    "    # Perform the stratified split\n",
    "    train_df, test_df = train_test_split(\n",
    "        df, \n",
    "        test_size=test_size, \n",
    "        stratify=df[target_column], \n",
    "        random_state=random_state\n",
    "    )\n",
    "    \n",
    "    # Create the full file paths\n",
    "    train_file_path = os.path.join(path, train_file_name)\n",
    "    test_file_path = os.path.join(path, test_file_name)\n",
    "    \n",
    "    # Save the splits to files\n",
    "    train_df.to_csv(train_file_path, index=False)\n",
    "    test_df.to_csv(test_file_path, index=False)\n",
    "    \n",
    "    print(f\"Training data saved to {train_file_path}\")\n",
    "    print(f\"Testing data saved to {test_file_path}\")\n",
    "\n",
    "# Example usage\n",
    "if __name__ == \"__main__\":\n",
    "    # Load your DataFrame (replace this with your actual DataFrame loading code)\n",
    "    df = pd.read_csv(\"your_data.csv\")\n",
    "    \n",
    "    # Define the target column\n",
    "    target_column = \"your_target_column\"\n",
    "    \n",
    "    # Define the output filenames and path\n",
    "    train_file_name = \"application_train.csv\"\n",
    "    test_file_name = \"application_test.csv\"\n",
    "    save_path = \"your/desired/path\"  # Replace with your desired directory path\n",
    "    \n",
    "    # Perform the stratified split and save the files\n",
    "    stratified_split_and_save(df, target_column, train_file_name, test_file_name, save_path)"
   ]
  }
 ],
 "metadata": {
  "kernelspec": {
   "display_name": ".venv",
   "language": "python",
   "name": "python3"
  },
  "language_info": {
   "codemirror_mode": {
    "name": "ipython",
    "version": 3
   },
   "file_extension": ".py",
   "mimetype": "text/x-python",
   "name": "python",
   "nbconvert_exporter": "python",
   "pygments_lexer": "ipython3",
   "version": "3.13.1"
  }
 },
 "nbformat": 4,
 "nbformat_minor": 2
}
